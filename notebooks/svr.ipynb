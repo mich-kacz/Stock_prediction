{
 "cells": [
  {
   "cell_type": "code",
   "execution_count": 1,
   "metadata": {},
   "outputs": [
    {
     "name": "stdout",
     "output_type": "stream",
     "text": [
      "2.3.0+cu121\n",
      "Using cpu device\n"
     ]
    }
   ],
   "source": [
    "import pandas as pd\n",
    "import matplotlib.pyplot as plt\n",
    "from datetime import datetime, timedelta\n",
    "import numpy as np\n",
    "import pickle\n",
    "import torch\n",
    "from torch import nn\n",
    "from sklearn.svm import SVR\n",
    "from sklearn.multioutput import MultiOutputRegressor\n",
    "print(torch.__version__)\n",
    "\n",
    "device = (\n",
    "    \"cuda\"\n",
    "    if torch.cuda.is_available()\n",
    "    else \"mps\"\n",
    "    if torch.backends.mps.is_available()\n",
    "    else \"cpu\"\n",
    ")\n",
    "print(f\"Using {device} device\")"
   ]
  },
  {
   "cell_type": "markdown",
   "metadata": {},
   "source": [
    "__Getting data__"
   ]
  },
  {
   "cell_type": "code",
   "execution_count": 2,
   "metadata": {},
   "outputs": [
    {
     "data": {
      "text/html": [
       "<div>\n",
       "<style scoped>\n",
       "    .dataframe tbody tr th:only-of-type {\n",
       "        vertical-align: middle;\n",
       "    }\n",
       "\n",
       "    .dataframe tbody tr th {\n",
       "        vertical-align: top;\n",
       "    }\n",
       "\n",
       "    .dataframe thead th {\n",
       "        text-align: right;\n",
       "    }\n",
       "</style>\n",
       "<table border=\"1\" class=\"dataframe\">\n",
       "  <thead>\n",
       "    <tr style=\"text-align: right;\">\n",
       "      <th></th>\n",
       "      <th>Open</th>\n",
       "      <th>High</th>\n",
       "      <th>Low</th>\n",
       "      <th>Close</th>\n",
       "      <th>Adj Close</th>\n",
       "      <th>Volume</th>\n",
       "      <th>Change[%]</th>\n",
       "    </tr>\n",
       "    <tr>\n",
       "      <th>Date</th>\n",
       "      <th></th>\n",
       "      <th></th>\n",
       "      <th></th>\n",
       "      <th></th>\n",
       "      <th></th>\n",
       "      <th></th>\n",
       "      <th></th>\n",
       "    </tr>\n",
       "  </thead>\n",
       "  <tbody>\n",
       "    <tr>\n",
       "      <th>2017-01-03</th>\n",
       "      <td>0.482997</td>\n",
       "      <td>0.479080</td>\n",
       "      <td>0.484905</td>\n",
       "      <td>0.470506</td>\n",
       "      <td>0.452145</td>\n",
       "      <td>0.034897</td>\n",
       "      <td>0.000000</td>\n",
       "    </tr>\n",
       "    <tr>\n",
       "      <th>2017-01-04</th>\n",
       "      <td>0.482565</td>\n",
       "      <td>0.471923</td>\n",
       "      <td>0.477626</td>\n",
       "      <td>0.468391</td>\n",
       "      <td>0.450099</td>\n",
       "      <td>0.033528</td>\n",
       "      <td>-0.373130</td>\n",
       "    </tr>\n",
       "    <tr>\n",
       "      <th>2017-01-05</th>\n",
       "      <td>0.472647</td>\n",
       "      <td>0.462661</td>\n",
       "      <td>0.457500</td>\n",
       "      <td>0.444714</td>\n",
       "      <td>0.427189</td>\n",
       "      <td>0.116681</td>\n",
       "      <td>-4.194755</td>\n",
       "    </tr>\n",
       "    <tr>\n",
       "      <th>2017-01-06</th>\n",
       "      <td>0.457122</td>\n",
       "      <td>0.452137</td>\n",
       "      <td>0.457928</td>\n",
       "      <td>0.454016</td>\n",
       "      <td>0.436190</td>\n",
       "      <td>0.067813</td>\n",
       "      <td>1.720118</td>\n",
       "    </tr>\n",
       "    <tr>\n",
       "      <th>2017-01-09</th>\n",
       "      <td>0.464884</td>\n",
       "      <td>0.461028</td>\n",
       "      <td>0.465208</td>\n",
       "      <td>0.462895</td>\n",
       "      <td>0.444781</td>\n",
       "      <td>0.050291</td>\n",
       "      <td>1.614118</td>\n",
       "    </tr>\n",
       "    <tr>\n",
       "      <th>...</th>\n",
       "      <td>...</td>\n",
       "      <td>...</td>\n",
       "      <td>...</td>\n",
       "      <td>...</td>\n",
       "      <td>...</td>\n",
       "      <td>...</td>\n",
       "      <td>...</td>\n",
       "    </tr>\n",
       "    <tr>\n",
       "      <th>2024-01-31</th>\n",
       "      <td>0.672262</td>\n",
       "      <td>0.658226</td>\n",
       "      <td>0.664609</td>\n",
       "      <td>0.646145</td>\n",
       "      <td>0.646145</td>\n",
       "      <td>0.069847</td>\n",
       "      <td>-1.921196</td>\n",
       "    </tr>\n",
       "    <tr>\n",
       "      <th>2024-02-01</th>\n",
       "      <td>0.656177</td>\n",
       "      <td>0.653564</td>\n",
       "      <td>0.654876</td>\n",
       "      <td>0.640231</td>\n",
       "      <td>0.640231</td>\n",
       "      <td>0.199965</td>\n",
       "      <td>-0.796821</td>\n",
       "    </tr>\n",
       "    <tr>\n",
       "      <th>2024-02-02</th>\n",
       "      <td>0.664471</td>\n",
       "      <td>0.665096</td>\n",
       "      <td>0.665358</td>\n",
       "      <td>0.668323</td>\n",
       "      <td>0.668323</td>\n",
       "      <td>0.352898</td>\n",
       "      <td>3.815269</td>\n",
       "    </tr>\n",
       "    <tr>\n",
       "      <th>2024-02-05</th>\n",
       "      <td>0.687091</td>\n",
       "      <td>0.686345</td>\n",
       "      <td>0.684076</td>\n",
       "      <td>0.667337</td>\n",
       "      <td>0.667337</td>\n",
       "      <td>0.240647</td>\n",
       "      <td>-0.128957</td>\n",
       "    </tr>\n",
       "    <tr>\n",
       "      <th>2024-02-06</th>\n",
       "      <td>0.690609</td>\n",
       "      <td>0.693654</td>\n",
       "      <td>0.692810</td>\n",
       "      <td>0.687050</td>\n",
       "      <td>0.687050</td>\n",
       "      <td>0.221098</td>\n",
       "      <td>2.582311</td>\n",
       "    </tr>\n",
       "  </tbody>\n",
       "</table>\n",
       "<p>1792 rows × 7 columns</p>\n",
       "</div>"
      ],
      "text/plain": [
       "                Open      High       Low     Close  Adj Close    Volume  \\\n",
       "Date                                                                      \n",
       "2017-01-03  0.482997  0.479080  0.484905  0.470506   0.452145  0.034897   \n",
       "2017-01-04  0.482565  0.471923  0.477626  0.468391   0.450099  0.033528   \n",
       "2017-01-05  0.472647  0.462661  0.457500  0.444714   0.427189  0.116681   \n",
       "2017-01-06  0.457122  0.452137  0.457928  0.454016   0.436190  0.067813   \n",
       "2017-01-09  0.464884  0.461028  0.465208  0.462895   0.444781  0.050291   \n",
       "...              ...       ...       ...       ...        ...       ...   \n",
       "2024-01-31  0.672262  0.658226  0.664609  0.646145   0.646145  0.069847   \n",
       "2024-02-01  0.656177  0.653564  0.654876  0.640231   0.640231  0.199965   \n",
       "2024-02-02  0.664471  0.665096  0.665358  0.668323   0.668323  0.352898   \n",
       "2024-02-05  0.687091  0.686345  0.684076  0.667337   0.667337  0.240647   \n",
       "2024-02-06  0.690609  0.693654  0.692810  0.687050   0.687050  0.221098   \n",
       "\n",
       "            Change[%]  \n",
       "Date                   \n",
       "2017-01-03   0.000000  \n",
       "2017-01-04  -0.373130  \n",
       "2017-01-05  -4.194755  \n",
       "2017-01-06   1.720118  \n",
       "2017-01-09   1.614118  \n",
       "...               ...  \n",
       "2024-01-31  -1.921196  \n",
       "2024-02-01  -0.796821  \n",
       "2024-02-02   3.815269  \n",
       "2024-02-05  -0.128957  \n",
       "2024-02-06   2.582311  \n",
       "\n",
       "[1792 rows x 7 columns]"
      ]
     },
     "execution_count": 2,
     "metadata": {},
     "output_type": "execute_result"
    }
   ],
   "source": [
    "stock = \"RR.L.csv\"\n",
    "train = pd.read_csv(\"../data/train/\" + stock).set_index(\"Date\")\n",
    "validation = pd.read_csv(\"../data/validation/\" + stock).set_index(\"Date\")\n",
    "test = pd.read_csv(\"../data/test/\" + stock).set_index(\"Date\")\n",
    "train = pd.concat([train, validation], axis = 0)\n",
    "train"
   ]
  },
  {
   "cell_type": "markdown",
   "metadata": {},
   "source": [
    "__Date Embedding and cyclical transformation__"
   ]
  },
  {
   "cell_type": "code",
   "execution_count": 3,
   "metadata": {},
   "outputs": [],
   "source": [
    "\n",
    "def getDateRange(start_date, end_date):\n",
    "    current_date = start_date\n",
    "    dates = []\n",
    "    while current_date <= end_date:\n",
    "        dates.append(current_date.strftime('%Y-%m-%d'))\n",
    "        current_date += timedelta(days=1)\n",
    "    return dates\n",
    "\n",
    "# Define the date range\n",
    "start_date = datetime(2024, 5, 24) - timedelta(days=40*365)  # 40 years ago\n",
    "end_date = datetime(2024, 5, 24) + timedelta(days=40*365)    # 40 years in the future\n",
    "\n",
    "# Generate the list of dates\n",
    "dictionary = getDateRange(start_date, end_date)\n",
    "date_to_index = {date: index for index, date in enumerate(dictionary)}\n",
    "\n",
    "class DateEmbeddingModel(nn.Module):\n",
    "    def __init__(self, num_embeddings = 29201, embedding_dim = 8):\n",
    "        super(DateEmbeddingModel, self).__init__()\n",
    "        self.embedding = nn.Embedding(num_embeddings, embedding_dim)\n",
    "\n",
    "    def forward(self, dates):\n",
    "        date_indices = torch.tensor([date_to_index[date] for date in dates], dtype=torch.long)\n",
    "        embedded_dates = self.embedding(date_indices)\n",
    "        return embedded_dates"
   ]
  },
  {
   "cell_type": "code",
   "execution_count": 4,
   "metadata": {},
   "outputs": [],
   "source": [
    "def dateCyclicalTransformation(date):\n",
    "    date = pd.to_datetime(date)\n",
    "\n",
    "    monthSin = np.sin(2 * np.pi * date.month/12.0)\n",
    "    monthCos = np.cos(2 * np.pi * date.month/12.0)\n",
    "    daySin = np.sin(2 * np.pi * date.day/31.0)\n",
    "    dayCos = np.cos(2 * np.pi * date.day/31.0)\n",
    "\n",
    "    return [monthSin, monthCos, daySin, dayCos]"
   ]
  },
  {
   "cell_type": "code",
   "execution_count": 5,
   "metadata": {},
   "outputs": [
    {
     "data": {
      "text/plain": [
       "'date = train.index.map(dateCyclicalTransformation)\\ndate = pd.DataFrame(date.to_list(), columns = [\"monthSin\", \"monthCos\", \"daySin\", \"dayCos\"]).set_index(train.index)\\ntrain = train.join(date)\\n\\ndate = validation.index.map(dateCyclicalTransformation)\\ndate = pd.DataFrame(date.to_list(), columns = [\"monthSin\", \"monthCos\", \"daySin\", \"dayCos\"]).set_index(validation.index)\\nvalidation = validation.join(date)\\n\\ndate = test.index.map(dateCyclicalTransformation)\\ndate = pd.DataFrame(date.to_list(), columns = [\"monthSin\", \"monthCos\", \"daySin\", \"dayCos\"]).set_index(test.index)\\ntest = test.join(date)'"
      ]
     },
     "execution_count": 5,
     "metadata": {},
     "output_type": "execute_result"
    }
   ],
   "source": [
    "'''date = train.index.map(dateCyclicalTransformation)\n",
    "date = pd.DataFrame(date.to_list(), columns = [\"monthSin\", \"monthCos\", \"daySin\", \"dayCos\"]).set_index(train.index)\n",
    "train = train.join(date)\n",
    "\n",
    "date = validation.index.map(dateCyclicalTransformation)\n",
    "date = pd.DataFrame(date.to_list(), columns = [\"monthSin\", \"monthCos\", \"daySin\", \"dayCos\"]).set_index(validation.index)\n",
    "validation = validation.join(date)\n",
    "\n",
    "date = test.index.map(dateCyclicalTransformation)\n",
    "date = pd.DataFrame(date.to_list(), columns = [\"monthSin\", \"monthCos\", \"daySin\", \"dayCos\"]).set_index(test.index)\n",
    "test = test.join(date)'''"
   ]
  },
  {
   "cell_type": "markdown",
   "metadata": {},
   "source": [
    "__Creating data loader__"
   ]
  },
  {
   "cell_type": "code",
   "execution_count": 6,
   "metadata": {},
   "outputs": [],
   "source": [
    "def createSequence(dataX, dataY, lengthX, predictionHorizont):\n",
    "    xData = []\n",
    "    yData = []\n",
    "    for i in range(len(dataX) - lengthX - predictionHorizont):\n",
    "        xData.append(dataX[i:i+lengthX].values)\n",
    "        yData.append(dataY[(lengthX + i):(lengthX + predictionHorizont + i)].values)\n",
    "    return xData, yData\n",
    "\n",
    "xTrain, yTrain = createSequence(train, train[\"Close\"], 30, 5)\n",
    "xValid, yValid = createSequence(validation, validation[\"Close\"], 30, 5)\n",
    "xTest, yTest = createSequence(test, test[\"Close\"], 30, 5)"
   ]
  },
  {
   "cell_type": "markdown",
   "metadata": {},
   "source": [
    "__Model__"
   ]
  },
  {
   "cell_type": "code",
   "execution_count": 7,
   "metadata": {},
   "outputs": [],
   "source": [
    "xTrain = np.array(xTrain)\n",
    "yTrain = np.array(yTrain)\n",
    "xValidation = np.array(xValid)\n",
    "yValidation = np.array(yValid)\n",
    "xTest = np.array(xTest)\n",
    "yTest = np.array(yTest)\n",
    "\n",
    "num_samples, num_days, num_features = xTrain.shape\n",
    "xTrain_flattened = xTrain.reshape(num_samples, num_days * num_features)\n",
    "\n",
    "num_samples, num_days, num_features = xValidation.shape\n",
    "xValidation_flattened = xValidation.reshape(num_samples, num_days * num_features)\n",
    "\n",
    "num_samples, num_days, num_features = xTest.shape\n",
    "xTest_flattened = xTest.reshape(num_samples, num_days * num_features)"
   ]
  },
  {
   "cell_type": "code",
   "execution_count": 24,
   "metadata": {},
   "outputs": [],
   "source": [
    "svr = SVR(kernel='linear', degree=10, C=10.0, epsilon=1e-2, max_iter=-1, tol = 1e-2)\n",
    "svrMultiOutput = MultiOutputRegressor(svr)\n",
    "svrMultiOutput.fit(xTrain_flattened, yTrain)\n",
    "pickle.dump(svrMultiOutput, open(\"../models/svr_params.pickle\", \"wb\"))\n",
    "\n",
    "# Load the parameters from file\n",
    "#svrMultiOutput = pickle.load(open(\"../models/svr_params.pickle\", \"rb\"))\n"
   ]
  },
  {
   "cell_type": "code",
   "execution_count": 25,
   "metadata": {},
   "outputs": [
    {
     "name": "stdout",
     "output_type": "stream",
     "text": [
      "(40, 5)\n"
     ]
    }
   ],
   "source": [
    "# Make predictions\n",
    "y_pred = svrMultiOutput.predict(xTest_flattened)\n",
    "\n",
    "# Print the shape of predictions to verify\n",
    "print(y_pred.shape)  # Should be (num_samples, prediction horizont)"
   ]
  },
  {
   "cell_type": "code",
   "execution_count": 26,
   "metadata": {},
   "outputs": [
    {
     "name": "stdout",
     "output_type": "stream",
     "text": [
      "Total Mean Squared Error: 0.0008334770918222715\n",
      "Total Mean Absolute Error: 0.022979862273757378\n"
     ]
    }
   ],
   "source": [
    "from sklearn.metrics import mean_squared_error\n",
    "from sklearn.metrics import mean_absolute_error\n",
    "\n",
    "# Calculate the mean squared error across all outputs\n",
    "mse_total = mean_squared_error(yTest, y_pred)\n",
    "print(f'Total Mean Squared Error: {mse_total}')\n",
    "\n",
    "mae_total = mean_absolute_error(yTest, y_pred)\n",
    "print(f'Total Mean Absolute Error: {mae_total}')"
   ]
  },
  {
   "cell_type": "code",
   "execution_count": 27,
   "metadata": {},
   "outputs": [
    {
     "data": {
      "image/png": "[encoded data removed]",
      "text/plain": [
       "<Figure size 640x480 with 1 Axes>"
      ]
     },
     "metadata": {},
     "output_type": "display_data"
    }
   ],
   "source": [
    "set = 5*2\n",
    "real = np.concatenate(yTest[::5])\n",
    "predictions = np.concatenate(y_pred[::5])\n",
    "\n",
    "fig, ax = plt.subplots()\n",
    "ax.plot(real, zorder = 3)\n",
    "ax.plot(predictions, color = 'black', zorder = 2)\n",
    "ax.legend([\"Real\", \"Prediction\"])\n",
    "#ax.axvspan(0, 4, facecolor='lightblue', alpha=0.5, zorder = 1)  # First part\n",
    "#ax.axvspan(4, 9, facecolor='lightgreen', alpha=0.5, zorder = 1)  # Second part\n",
    "#ax.axvspan(9, 14, facecolor='tomato', alpha=0.5, zorder = 1)  # Second third\n",
    "ax.set_ylim([0, 1.2])\n",
    "ax.grid()\n",
    "plt.ylabel(\"Scaled closing\")\n",
    "plt.xlabel(\"Day number\")\n",
    "plt.title(\"Prediction for 5 days using last 30 days\")\n",
    "plt.show()"
   ]
  }
 ],
 "metadata": {
  "kernelspec": {
   "display_name": "Python 3",
   "language": "python",
   "name": "python3"
  },
  "language_info": {
   "codemirror_mode": {
    "name": "ipython",
    "version": 3
   },
   "file_extension": ".py",
   "mimetype": "text/x-python",
   "name": "python",
   "nbconvert_exporter": "python",
   "pygments_lexer": "ipython3",
   "version": "3.9.2"
  }
 },
 "nbformat": 4,
 "nbformat_minor": 2
}

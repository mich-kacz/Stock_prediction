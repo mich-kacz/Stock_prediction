{
 "cells": [
  {
   "cell_type": "code",
   "execution_count": 7,
   "metadata": {},
   "outputs": [
    {
     "name": "stdout",
     "output_type": "stream",
     "text": [
      "2.3.0+cu121\n",
      "Using cpu device\n"
     ]
    }
   ],
   "source": [
    "import pandas as pd\n",
    "import matplotlib.pyplot as plt\n",
    "from datetime import datetime, timedelta\n",
    "import numpy as np\n",
    "import pickle\n",
    "import torch\n",
    "from torch import nn\n",
    "from sklearn.svm import SVR\n",
    "from sklearn.multioutput import MultiOutputRegressor\n",
    "from sklearn.metrics import mean_squared_error\n",
    "from sklearn.metrics import mean_absolute_error\n",
    "print(torch.__version__)\n",
    "\n",
    "device = (\n",
    "    \"cuda\"\n",
    "    if torch.cuda.is_available()\n",
    "    else \"mps\"\n",
    "    if torch.backends.mps.is_available()\n",
    "    else \"cpu\"\n",
    ")\n",
    "print(f\"Using {device} device\")"
   ]
  },
  {
   "cell_type": "markdown",
   "metadata": {},
   "source": [
    "__Getting data__"
   ]
  },
  {
   "cell_type": "code",
   "execution_count": 8,
   "metadata": {},
   "outputs": [
    {
     "data": {
      "text/html": [
       "<div>\n",
       "<style scoped>\n",
       "    .dataframe tbody tr th:only-of-type {\n",
       "        vertical-align: middle;\n",
       "    }\n",
       "\n",
       "    .dataframe tbody tr th {\n",
       "        vertical-align: top;\n",
       "    }\n",
       "\n",
       "    .dataframe thead th {\n",
       "        text-align: right;\n",
       "    }\n",
       "</style>\n",
       "<table border=\"1\" class=\"dataframe\">\n",
       "  <thead>\n",
       "    <tr style=\"text-align: right;\">\n",
       "      <th></th>\n",
       "      <th>Open</th>\n",
       "      <th>High</th>\n",
       "      <th>Low</th>\n",
       "      <th>Close</th>\n",
       "      <th>Adj Close</th>\n",
       "      <th>Volume</th>\n",
       "      <th>Change[%]</th>\n",
       "    </tr>\n",
       "    <tr>\n",
       "      <th>Date</th>\n",
       "      <th></th>\n",
       "      <th></th>\n",
       "      <th></th>\n",
       "      <th></th>\n",
       "      <th></th>\n",
       "      <th></th>\n",
       "      <th></th>\n",
       "    </tr>\n",
       "  </thead>\n",
       "  <tbody>\n",
       "    <tr>\n",
       "      <th>2012-01-03</th>\n",
       "      <td>0.548936</td>\n",
       "      <td>0.549805</td>\n",
       "      <td>0.547816</td>\n",
       "      <td>0.544075</td>\n",
       "      <td>0.464206</td>\n",
       "      <td>0.032030</td>\n",
       "      <td>0.308960</td>\n",
       "    </tr>\n",
       "    <tr>\n",
       "      <th>2012-01-04</th>\n",
       "      <td>0.554043</td>\n",
       "      <td>0.551489</td>\n",
       "      <td>0.550373</td>\n",
       "      <td>0.538156</td>\n",
       "      <td>0.459025</td>\n",
       "      <td>0.029692</td>\n",
       "      <td>0.294358</td>\n",
       "    </tr>\n",
       "    <tr>\n",
       "      <th>2012-01-05</th>\n",
       "      <td>0.543404</td>\n",
       "      <td>0.544753</td>\n",
       "      <td>0.549947</td>\n",
       "      <td>0.541538</td>\n",
       "      <td>0.461985</td>\n",
       "      <td>0.046308</td>\n",
       "      <td>0.317382</td>\n",
       "    </tr>\n",
       "    <tr>\n",
       "      <th>2012-01-06</th>\n",
       "      <td>0.546809</td>\n",
       "      <td>0.546016</td>\n",
       "      <td>0.554209</td>\n",
       "      <td>0.542806</td>\n",
       "      <td>0.463095</td>\n",
       "      <td>0.042678</td>\n",
       "      <td>0.312101</td>\n",
       "    </tr>\n",
       "    <tr>\n",
       "      <th>2012-01-09</th>\n",
       "      <td>0.548085</td>\n",
       "      <td>0.547279</td>\n",
       "      <td>0.555487</td>\n",
       "      <td>0.543652</td>\n",
       "      <td>0.463836</td>\n",
       "      <td>0.020215</td>\n",
       "      <td>0.311050</td>\n",
       "    </tr>\n",
       "    <tr>\n",
       "      <th>...</th>\n",
       "      <td>...</td>\n",
       "      <td>...</td>\n",
       "      <td>...</td>\n",
       "      <td>...</td>\n",
       "      <td>...</td>\n",
       "      <td>...</td>\n",
       "      <td>...</td>\n",
       "    </tr>\n",
       "    <tr>\n",
       "      <th>2023-11-16</th>\n",
       "      <td>0.507394</td>\n",
       "      <td>0.509788</td>\n",
       "      <td>0.512433</td>\n",
       "      <td>0.506427</td>\n",
       "      <td>0.506427</td>\n",
       "      <td>0.356570</td>\n",
       "      <td>0.314794</td>\n",
       "    </tr>\n",
       "    <tr>\n",
       "      <th>2023-11-17</th>\n",
       "      <td>0.511576</td>\n",
       "      <td>0.512978</td>\n",
       "      <td>0.516158</td>\n",
       "      <td>0.505195</td>\n",
       "      <td>0.505195</td>\n",
       "      <td>0.099675</td>\n",
       "      <td>0.305731</td>\n",
       "    </tr>\n",
       "    <tr>\n",
       "      <th>2023-11-20</th>\n",
       "      <td>0.507608</td>\n",
       "      <td>0.511751</td>\n",
       "      <td>0.516655</td>\n",
       "      <td>0.508891</td>\n",
       "      <td>0.508891</td>\n",
       "      <td>0.064128</td>\n",
       "      <td>0.318668</td>\n",
       "    </tr>\n",
       "    <tr>\n",
       "      <th>2023-11-21</th>\n",
       "      <td>0.511824</td>\n",
       "      <td>0.509788</td>\n",
       "      <td>0.516655</td>\n",
       "      <td>0.502730</td>\n",
       "      <td>0.502730</td>\n",
       "      <td>0.054488</td>\n",
       "      <td>0.292879</td>\n",
       "    </tr>\n",
       "    <tr>\n",
       "      <th>2023-11-22</th>\n",
       "      <td>0.508600</td>\n",
       "      <td>0.507580</td>\n",
       "      <td>0.499268</td>\n",
       "      <td>0.489178</td>\n",
       "      <td>0.489178</td>\n",
       "      <td>0.077753</td>\n",
       "      <td>0.273218</td>\n",
       "    </tr>\n",
       "  </tbody>\n",
       "</table>\n",
       "<p>3004 rows × 7 columns</p>\n",
       "</div>"
      ],
      "text/plain": [
       "                Open      High       Low     Close  Adj Close    Volume  \\\n",
       "Date                                                                      \n",
       "2012-01-03  0.548936  0.549805  0.547816  0.544075   0.464206  0.032030   \n",
       "2012-01-04  0.554043  0.551489  0.550373  0.538156   0.459025  0.029692   \n",
       "2012-01-05  0.543404  0.544753  0.549947  0.541538   0.461985  0.046308   \n",
       "2012-01-06  0.546809  0.546016  0.554209  0.542806   0.463095  0.042678   \n",
       "2012-01-09  0.548085  0.547279  0.555487  0.543652   0.463836  0.020215   \n",
       "...              ...       ...       ...       ...        ...       ...   \n",
       "2023-11-16  0.507394  0.509788  0.512433  0.506427   0.506427  0.356570   \n",
       "2023-11-17  0.511576  0.512978  0.516158  0.505195   0.505195  0.099675   \n",
       "2023-11-20  0.507608  0.511751  0.516655  0.508891   0.508891  0.064128   \n",
       "2023-11-21  0.511824  0.509788  0.516655  0.502730   0.502730  0.054488   \n",
       "2023-11-22  0.508600  0.507580  0.499268  0.489178   0.489178  0.077753   \n",
       "\n",
       "            Change[%]  \n",
       "Date                   \n",
       "2012-01-03   0.308960  \n",
       "2012-01-04   0.294358  \n",
       "2012-01-05   0.317382  \n",
       "2012-01-06   0.312101  \n",
       "2012-01-09   0.311050  \n",
       "...               ...  \n",
       "2023-11-16   0.314794  \n",
       "2023-11-17   0.305731  \n",
       "2023-11-20   0.318668  \n",
       "2023-11-21   0.292879  \n",
       "2023-11-22   0.273218  \n",
       "\n",
       "[3004 rows x 7 columns]"
      ]
     },
     "execution_count": 8,
     "metadata": {},
     "output_type": "execute_result"
    }
   ],
   "source": [
    "stock = \"RR.L.csv\"\n",
    "train = pd.read_csv(\"../data/train/\" + stock).set_index(\"Date\")\n",
    "validation = pd.read_csv(\"../data/validation/\" + stock).set_index(\"Date\")\n",
    "test = pd.read_csv(\"../data/test/\" + stock).set_index(\"Date\")\n",
    "train = pd.concat([train, validation], axis = 0)\n",
    "train"
   ]
  },
  {
   "cell_type": "markdown",
   "metadata": {},
   "source": [
    "__Date Embedding and cyclical transformation__"
   ]
  },
  {
   "cell_type": "code",
   "execution_count": 9,
   "metadata": {},
   "outputs": [],
   "source": [
    "\n",
    "def getDateRange(start_date, end_date):\n",
    "    current_date = start_date\n",
    "    dates = []\n",
    "    while current_date <= end_date:\n",
    "        dates.append(current_date.strftime('%Y-%m-%d'))\n",
    "        current_date += timedelta(days=1)\n",
    "    return dates\n",
    "\n",
    "# Define the date range\n",
    "start_date = datetime(2024, 5, 24) - timedelta(days=40*365)  # 40 years ago\n",
    "end_date = datetime(2024, 5, 24) + timedelta(days=40*365)    # 40 years in the future\n",
    "\n",
    "# Generate the list of dates\n",
    "dictionary = getDateRange(start_date, end_date)\n",
    "date_to_index = {date: index for index, date in enumerate(dictionary)}\n",
    "\n",
    "class DateEmbeddingModel(nn.Module):\n",
    "    def __init__(self, num_embeddings = 29201, embedding_dim = 8):\n",
    "        super(DateEmbeddingModel, self).__init__()\n",
    "        self.embedding = nn.Embedding(num_embeddings, embedding_dim)\n",
    "\n",
    "    def forward(self, dates):\n",
    "        date_indices = torch.tensor([date_to_index[date] for date in dates], dtype=torch.long)\n",
    "        embedded_dates = self.embedding(date_indices)\n",
    "        return embedded_dates"
   ]
  },
  {
   "cell_type": "code",
   "execution_count": 10,
   "metadata": {},
   "outputs": [],
   "source": [
    "def dateCyclicalTransformation(date):\n",
    "    date = pd.to_datetime(date)\n",
    "\n",
    "    monthSin = np.sin(2 * np.pi * date.month/12.0)\n",
    "    monthCos = np.cos(2 * np.pi * date.month/12.0)\n",
    "    daySin = np.sin(2 * np.pi * date.day/31.0)\n",
    "    dayCos = np.cos(2 * np.pi * date.day/31.0)\n",
    "\n",
    "    return [monthSin, monthCos, daySin, dayCos]"
   ]
  },
  {
   "cell_type": "code",
   "execution_count": 11,
   "metadata": {},
   "outputs": [
    {
     "data": {
      "text/plain": [
       "'date = train.index.map(dateCyclicalTransformation)\\ndate = pd.DataFrame(date.to_list(), columns = [\"monthSin\", \"monthCos\", \"daySin\", \"dayCos\"]).set_index(train.index)\\ntrain = train.join(date)\\n\\ndate = validation.index.map(dateCyclicalTransformation)\\ndate = pd.DataFrame(date.to_list(), columns = [\"monthSin\", \"monthCos\", \"daySin\", \"dayCos\"]).set_index(validation.index)\\nvalidation = validation.join(date)\\n\\ndate = test.index.map(dateCyclicalTransformation)\\ndate = pd.DataFrame(date.to_list(), columns = [\"monthSin\", \"monthCos\", \"daySin\", \"dayCos\"]).set_index(test.index)\\ntest = test.join(date)'"
      ]
     },
     "execution_count": 11,
     "metadata": {},
     "output_type": "execute_result"
    }
   ],
   "source": [
    "'''date = train.index.map(dateCyclicalTransformation)\n",
    "date = pd.DataFrame(date.to_list(), columns = [\"monthSin\", \"monthCos\", \"daySin\", \"dayCos\"]).set_index(train.index)\n",
    "train = train.join(date)\n",
    "\n",
    "date = validation.index.map(dateCyclicalTransformation)\n",
    "date = pd.DataFrame(date.to_list(), columns = [\"monthSin\", \"monthCos\", \"daySin\", \"dayCos\"]).set_index(validation.index)\n",
    "validation = validation.join(date)\n",
    "\n",
    "date = test.index.map(dateCyclicalTransformation)\n",
    "date = pd.DataFrame(date.to_list(), columns = [\"monthSin\", \"monthCos\", \"daySin\", \"dayCos\"]).set_index(test.index)\n",
    "test = test.join(date)'''"
   ]
  },
  {
   "cell_type": "markdown",
   "metadata": {},
   "source": [
    "__Creating data loader__"
   ]
  },
  {
   "cell_type": "code",
   "execution_count": 12,
   "metadata": {},
   "outputs": [
    {
     "name": "stdout",
     "output_type": "stream",
     "text": [
      "[[0.54893626 0.54980492 0.54781605 0.54407501 0.46420567 0.03203037\n",
      "  0.3089601 ]\n",
      " [0.55404259 0.55148879 0.55037315 0.5381556  0.45902488 0.02969211\n",
      "  0.29435775]]\n",
      "[0.54153819]\n",
      "[[0.55404259 0.55148879 0.55037315 0.5381556  0.45902488 0.02969211\n",
      "  0.29435775]\n",
      " [0.54340435 0.54475293 0.54994692 0.54153819 0.46198545 0.04630809\n",
      "  0.31738236]]\n",
      "[0.54280645]\n"
     ]
    },
    {
     "ename": "KeyboardInterrupt",
     "evalue": "Interrupted by user",
     "output_type": "error",
     "traceback": [
      "\u001b[0;31m---------------------------------------------------------------------------\u001b[0m",
      "\u001b[0;31mKeyboardInterrupt\u001b[0m                         Traceback (most recent call last)",
      "Cell \u001b[0;32mIn[12], line 12\u001b[0m\n\u001b[1;32m      9\u001b[0m         \u001b[38;5;28minput\u001b[39m(\u001b[38;5;124m\"\u001b[39m\u001b[38;5;124mSTOP\u001b[39m\u001b[38;5;124m\"\u001b[39m)\n\u001b[1;32m     10\u001b[0m     \u001b[38;5;28;01mreturn\u001b[39;00m xData, yData\n\u001b[0;32m---> 12\u001b[0m xTrain, yTrain \u001b[38;5;241m=\u001b[39m \u001b[43mcreateSequence\u001b[49m\u001b[43m(\u001b[49m\u001b[43mtrain\u001b[49m\u001b[43m,\u001b[49m\u001b[43m \u001b[49m\u001b[43mtrain\u001b[49m\u001b[43m[\u001b[49m\u001b[38;5;124;43m\"\u001b[39;49m\u001b[38;5;124;43mClose\u001b[39;49m\u001b[38;5;124;43m\"\u001b[39;49m\u001b[43m]\u001b[49m\u001b[43m,\u001b[49m\u001b[43m \u001b[49m\u001b[38;5;241;43m2\u001b[39;49m\u001b[43m,\u001b[49m\u001b[43m \u001b[49m\u001b[38;5;241;43m1\u001b[39;49m\u001b[43m)\u001b[49m\n\u001b[1;32m     13\u001b[0m xValid, yValid \u001b[38;5;241m=\u001b[39m createSequence(validation, validation[\u001b[38;5;124m\"\u001b[39m\u001b[38;5;124mClose\u001b[39m\u001b[38;5;124m\"\u001b[39m], \u001b[38;5;241m2\u001b[39m, \u001b[38;5;241m1\u001b[39m)\n\u001b[1;32m     14\u001b[0m xTest, yTest \u001b[38;5;241m=\u001b[39m createSequence(test, test[\u001b[38;5;124m\"\u001b[39m\u001b[38;5;124mClose\u001b[39m\u001b[38;5;124m\"\u001b[39m], \u001b[38;5;241m2\u001b[39m, \u001b[38;5;241m1\u001b[39m)\n",
      "Cell \u001b[0;32mIn[12], line 9\u001b[0m, in \u001b[0;36mcreateSequence\u001b[0;34m(dataX, dataY, lengthX, predictionHorizont)\u001b[0m\n\u001b[1;32m      7\u001b[0m     yData\u001b[38;5;241m.\u001b[39mappend(dataY[(lengthX \u001b[38;5;241m+\u001b[39m i):(lengthX \u001b[38;5;241m+\u001b[39m predictionHorizont \u001b[38;5;241m+\u001b[39m i)]\u001b[38;5;241m.\u001b[39mvalues)\n\u001b[1;32m      8\u001b[0m     \u001b[38;5;28mprint\u001b[39m(yData[\u001b[38;5;241m-\u001b[39m\u001b[38;5;241m1\u001b[39m])\n\u001b[0;32m----> 9\u001b[0m     \u001b[38;5;28;43minput\u001b[39;49m\u001b[43m(\u001b[49m\u001b[38;5;124;43m\"\u001b[39;49m\u001b[38;5;124;43mSTOP\u001b[39;49m\u001b[38;5;124;43m\"\u001b[39;49m\u001b[43m)\u001b[49m\n\u001b[1;32m     10\u001b[0m \u001b[38;5;28;01mreturn\u001b[39;00m xData, yData\n",
      "File \u001b[0;32m~/.local/lib/python3.9/site-packages/ipykernel/kernelbase.py:1261\u001b[0m, in \u001b[0;36mKernel.raw_input\u001b[0;34m(self, prompt)\u001b[0m\n\u001b[1;32m   1259\u001b[0m     msg \u001b[38;5;241m=\u001b[39m \u001b[38;5;124m\"\u001b[39m\u001b[38;5;124mraw_input was called, but this frontend does not support input requests.\u001b[39m\u001b[38;5;124m\"\u001b[39m\n\u001b[1;32m   1260\u001b[0m     \u001b[38;5;28;01mraise\u001b[39;00m StdinNotImplementedError(msg)\n\u001b[0;32m-> 1261\u001b[0m \u001b[38;5;28;01mreturn\u001b[39;00m \u001b[38;5;28;43mself\u001b[39;49m\u001b[38;5;241;43m.\u001b[39;49m\u001b[43m_input_request\u001b[49m\u001b[43m(\u001b[49m\n\u001b[1;32m   1262\u001b[0m \u001b[43m    \u001b[49m\u001b[38;5;28;43mstr\u001b[39;49m\u001b[43m(\u001b[49m\u001b[43mprompt\u001b[49m\u001b[43m)\u001b[49m\u001b[43m,\u001b[49m\n\u001b[1;32m   1263\u001b[0m \u001b[43m    \u001b[49m\u001b[38;5;28;43mself\u001b[39;49m\u001b[38;5;241;43m.\u001b[39;49m\u001b[43m_parent_ident\u001b[49m\u001b[43m[\u001b[49m\u001b[38;5;124;43m\"\u001b[39;49m\u001b[38;5;124;43mshell\u001b[39;49m\u001b[38;5;124;43m\"\u001b[39;49m\u001b[43m]\u001b[49m\u001b[43m,\u001b[49m\n\u001b[1;32m   1264\u001b[0m \u001b[43m    \u001b[49m\u001b[38;5;28;43mself\u001b[39;49m\u001b[38;5;241;43m.\u001b[39;49m\u001b[43mget_parent\u001b[49m\u001b[43m(\u001b[49m\u001b[38;5;124;43m\"\u001b[39;49m\u001b[38;5;124;43mshell\u001b[39;49m\u001b[38;5;124;43m\"\u001b[39;49m\u001b[43m)\u001b[49m\u001b[43m,\u001b[49m\n\u001b[1;32m   1265\u001b[0m \u001b[43m    \u001b[49m\u001b[43mpassword\u001b[49m\u001b[38;5;241;43m=\u001b[39;49m\u001b[38;5;28;43;01mFalse\u001b[39;49;00m\u001b[43m,\u001b[49m\n\u001b[1;32m   1266\u001b[0m \u001b[43m\u001b[49m\u001b[43m)\u001b[49m\n",
      "File \u001b[0;32m~/.local/lib/python3.9/site-packages/ipykernel/kernelbase.py:1304\u001b[0m, in \u001b[0;36mKernel._input_request\u001b[0;34m(self, prompt, ident, parent, password)\u001b[0m\n\u001b[1;32m   1301\u001b[0m \u001b[38;5;28;01mexcept\u001b[39;00m \u001b[38;5;167;01mKeyboardInterrupt\u001b[39;00m:\n\u001b[1;32m   1302\u001b[0m     \u001b[38;5;66;03m# re-raise KeyboardInterrupt, to truncate traceback\u001b[39;00m\n\u001b[1;32m   1303\u001b[0m     msg \u001b[38;5;241m=\u001b[39m \u001b[38;5;124m\"\u001b[39m\u001b[38;5;124mInterrupted by user\u001b[39m\u001b[38;5;124m\"\u001b[39m\n\u001b[0;32m-> 1304\u001b[0m     \u001b[38;5;28;01mraise\u001b[39;00m \u001b[38;5;167;01mKeyboardInterrupt\u001b[39;00m(msg) \u001b[38;5;28;01mfrom\u001b[39;00m \u001b[38;5;28;01mNone\u001b[39;00m\n\u001b[1;32m   1305\u001b[0m \u001b[38;5;28;01mexcept\u001b[39;00m \u001b[38;5;167;01mException\u001b[39;00m:\n\u001b[1;32m   1306\u001b[0m     \u001b[38;5;28mself\u001b[39m\u001b[38;5;241m.\u001b[39mlog\u001b[38;5;241m.\u001b[39mwarning(\u001b[38;5;124m\"\u001b[39m\u001b[38;5;124mInvalid Message:\u001b[39m\u001b[38;5;124m\"\u001b[39m, exc_info\u001b[38;5;241m=\u001b[39m\u001b[38;5;28;01mTrue\u001b[39;00m)\n",
      "\u001b[0;31mKeyboardInterrupt\u001b[0m: Interrupted by user"
     ]
    }
   ],
   "source": [
    "def createSequence(dataX, dataY, lengthX, predictionHorizont):\n",
    "    xData = []\n",
    "    yData = []\n",
    "    for i in range(len(dataX) - lengthX - predictionHorizont):\n",
    "        xData.append(dataX[i:i+lengthX].values)\n",
    "        yData.append(dataY[(lengthX + i):(lengthX + predictionHorizont + i)].values)\n",
    "    return xData, yData\n",
    "\n",
    "xTrain, yTrain = createSequence(train, train[\"Close\"], 2, 1)\n",
    "xValid, yValid = createSequence(validation, validation[\"Close\"], 2, 1)\n",
    "xTest, yTest = createSequence(test, test[\"Close\"], 2, 1)"
   ]
  },
  {
   "cell_type": "markdown",
   "metadata": {},
   "source": [
    "__Model__"
   ]
  },
  {
   "cell_type": "code",
   "execution_count": 7,
   "metadata": {},
   "outputs": [],
   "source": [
    "xTrain = np.array(xTrain)\n",
    "yTrain = np.array(yTrain)\n",
    "xValidation = np.array(xValid)\n",
    "yValidation = np.array(yValid)\n",
    "xTest = np.array(xTest)\n",
    "yTest = np.array(yTest)\n",
    "\n",
    "num_samples, num_days, num_features = xTrain.shape\n",
    "xTrain_flattened = xTrain.reshape(num_samples, num_days * num_features)\n",
    "\n",
    "num_samples, num_days, num_features = xValidation.shape\n",
    "xValidation_flattened = xValidation.reshape(num_samples, num_days * num_features)\n",
    "\n",
    "num_samples, num_days, num_features = xTest.shape\n",
    "xTest_flattened = xTest.reshape(num_samples, num_days * num_features)"
   ]
  },
  {
   "cell_type": "code",
   "execution_count": 8,
   "metadata": {},
   "outputs": [],
   "source": [
    "svr = SVR(kernel='linear', degree=10, C=10.0, epsilon=1e-2, max_iter=-1, tol = 1e-2)\n",
    "svrMultiOutput = MultiOutputRegressor(svr)\n",
    "svrMultiOutput.fit(xTrain_flattened, yTrain)\n",
    "pickle.dump(svrMultiOutput, open(\"../models/svr_params.pickle\", \"wb\"))\n",
    "\n",
    "# Load the parameters from file\n",
    "#svrMultiOutput = pickle.load(open(\"../models/svr_params.pickle\", \"rb\"))\n"
   ]
  },
  {
   "cell_type": "markdown",
   "metadata": {},
   "source": [
    "__Train results__"
   ]
  },
  {
   "cell_type": "code",
   "execution_count": 9,
   "metadata": {},
   "outputs": [
    {
     "name": "stdout",
     "output_type": "stream",
     "text": [
      "Total Mean Squared Error: 0.00013609993486497605\n",
      "Total Mean Absolute Error: 0.00798782704302708\n"
     ]
    },
    {
     "data": {
      "image/png": "[encoded data removed]",
      "text/plain": [
       "<Figure size 640x480 with 1 Axes>"
      ]
     },
     "metadata": {},
     "output_type": "display_data"
    }
   ],
   "source": [
    "# Make predictions\n",
    "y_pred = svrMultiOutput.predict(xTrain_flattened)\n",
    "\n",
    "# Calculate the mean squared error across all outputs\n",
    "mse_total = mean_squared_error(yTrain, y_pred)\n",
    "print(f'Total Mean Squared Error: {mse_total}')\n",
    "\n",
    "mae_total = mean_absolute_error(yTrain, y_pred)\n",
    "print(f'Total Mean Absolute Error: {mae_total}')\n",
    "\n",
    "set = 5*2\n",
    "real = np.concatenate(yTrain[::1])\n",
    "predictions = np.concatenate(y_pred[::1])\n",
    "\n",
    "fig, ax = plt.subplots()\n",
    "ax.plot(real, zorder = 3)\n",
    "ax.plot(predictions, color = 'black', zorder = 2)\n",
    "ax.legend([\"Real\", \"Prediction\"])\n",
    "#ax.axvspan(0, 4, facecolor='lightblue', alpha=0.5, zorder = 1)  # First part\n",
    "#ax.axvspan(4, 9, facecolor='lightgreen', alpha=0.5, zorder = 1)  # Second part\n",
    "#ax.axvspan(9, 14, facecolor='tomato', alpha=0.5, zorder = 1)  # Second third\n",
    "#ax.set_ylim([0, 1])\n",
    "ax.grid()\n",
    "plt.ylabel(\"Scaled closing\")\n",
    "plt.xlabel(\"Day number\")\n",
    "plt.title(\"Prediction for 1 day using last 10 days - train set\")\n",
    "plt.show()\n",
    "\n"
   ]
  },
  {
   "cell_type": "markdown",
   "metadata": {},
   "source": [
    "__Test results__"
   ]
  },
  {
   "cell_type": "code",
   "execution_count": 10,
   "metadata": {},
   "outputs": [
    {
     "name": "stdout",
     "output_type": "stream",
     "text": [
      "(72, 1)\n"
     ]
    }
   ],
   "source": [
    "# Make predictions\n",
    "y_pred = svrMultiOutput.predict(xTest_flattened)\n",
    "\n",
    "# Print the shape of predictions to verify\n",
    "print(y_pred.shape)  # Should be (num_samples, prediction horizont)"
   ]
  },
  {
   "cell_type": "code",
   "execution_count": 11,
   "metadata": {},
   "outputs": [
    {
     "name": "stdout",
     "output_type": "stream",
     "text": [
      "Total Mean Squared Error: 0.00034965456364572316\n",
      "Total Mean Absolute Error: 0.014572137964404378\n"
     ]
    }
   ],
   "source": [
    "# Calculate the mean squared error across all outputs\n",
    "mse_total = mean_squared_error(yTest, y_pred)\n",
    "print(f'Total Mean Squared Error: {mse_total}')\n",
    "\n",
    "mae_total = mean_absolute_error(yTest, y_pred)\n",
    "print(f'Total Mean Absolute Error: {mae_total}')"
   ]
  },
  {
   "cell_type": "code",
   "execution_count": 1,
   "metadata": {},
   "outputs": [
    {
     "ename": "NameError",
     "evalue": "name 'np' is not defined",
     "output_type": "error",
     "traceback": [
      "\u001b[0;31m---------------------------------------------------------------------------\u001b[0m",
      "\u001b[0;31mNameError\u001b[0m                                 Traceback (most recent call last)",
      "Cell \u001b[0;32mIn[1], line 2\u001b[0m\n\u001b[1;32m      1\u001b[0m \u001b[38;5;28mset\u001b[39m \u001b[38;5;241m=\u001b[39m \u001b[38;5;241m5\u001b[39m\u001b[38;5;241m*\u001b[39m\u001b[38;5;241m2\u001b[39m\n\u001b[0;32m----> 2\u001b[0m real \u001b[38;5;241m=\u001b[39m \u001b[43mnp\u001b[49m\u001b[38;5;241m.\u001b[39mconcatenate(yTest[::\u001b[38;5;241m1\u001b[39m])\n\u001b[1;32m      3\u001b[0m predictions \u001b[38;5;241m=\u001b[39m np\u001b[38;5;241m.\u001b[39mconcatenate(y_pred[\u001b[38;5;241m1\u001b[39m::\u001b[38;5;241m1\u001b[39m])\n\u001b[1;32m      5\u001b[0m fig, ax \u001b[38;5;241m=\u001b[39m plt\u001b[38;5;241m.\u001b[39msubplots()\n",
      "\u001b[0;31mNameError\u001b[0m: name 'np' is not defined"
     ]
    }
   ],
   "source": [
    "set = 5*2\n",
    "real = np.concatenate(yTest[::1])\n",
    "predictions = np.concatenate(y_pred[::1])\n",
    "\n",
    "fig, ax = plt.subplots()\n",
    "ax.plot(real, zorder = 3)\n",
    "ax.plot(predictions, color = 'black', zorder = 2)\n",
    "ax.legend([\"Real\", \"Prediction\"])\n",
    "#ax.axvspan(0, 4, facecolor='lightblue', alpha=0.5, zorder = 1)  # First part\n",
    "#ax.axvspan(4, 9, facecolor='lightgreen', alpha=0.5, zorder = 1)  # Second part\n",
    "#ax.axvspan(9, 14, facecolor='tomato', alpha=0.5, zorder = 1)  # Second third\n",
    "#ax.set_ylim([0, 1])\n",
    "ax.grid()\n",
    "plt.ylabel(\"Scaled closing\")\n",
    "plt.xlabel(\"Day number\")\n",
    "plt.title(\"Prediction for 1 day using last 10 days\")\n",
    "plt.show()"
   ]
  }
 ],
 "metadata": {
  "kernelspec": {
   "display_name": "Python 3",
   "language": "python",
   "name": "python3"
  },
  "language_info": {
   "codemirror_mode": {
    "name": "ipython",
    "version": 3
   },
   "file_extension": ".py",
   "mimetype": "text/x-python",
   "name": "python",
   "nbconvert_exporter": "python",
   "pygments_lexer": "ipython3",
   "version": "3.9.2"
  }
 },
 "nbformat": 4,
 "nbformat_minor": 2
}

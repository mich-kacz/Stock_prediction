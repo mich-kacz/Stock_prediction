{
 "cells": [
  {
   "cell_type": "code",
   "execution_count": 217,
   "metadata": {},
   "outputs": [
    {
     "name": "stdout",
     "output_type": "stream",
     "text": [
      "2.3.0+cu121\n",
      "Using cpu device\n"
     ]
    }
   ],
   "source": [
    "import pandas as pd\n",
    "import matplotlib.pyplot as plt\n",
    "from datetime import datetime, timedelta\n",
    "import numpy as np\n",
    "import pickle\n",
    "import torch\n",
    "from torch import nn\n",
    "from sklearn.svm import SVC\n",
    "from sklearn.multioutput import MultiOutputRegressor\n",
    "from sklearn.metrics import accuracy_score\n",
    "from sklearn.metrics import recall_score\n",
    "import os\n",
    "import sys\n",
    "\n",
    "current_dir = os.path.dirname(os.path.abspath('__file__'))\n",
    "parent_dir = os.path.dirname(current_dir)\n",
    "sys.path.append(parent_dir)\n",
    "from dataHandler.preprocessor import Preprocessor\n",
    "from sklearn import model_selection\n",
    "\n",
    "\n",
    "print(torch.__version__)\n",
    "\n",
    "device = (\n",
    "    \"cuda\"\n",
    "    if torch.cuda.is_available()\n",
    "    else \"mps\"\n",
    "    if torch.backends.mps.is_available()\n",
    "    else \"cpu\"\n",
    ")\n",
    "print(f\"Using {device} device\")"
   ]
  },
  {
   "cell_type": "markdown",
   "metadata": {},
   "source": [
    "__Getting data__"
   ]
  },
  {
   "cell_type": "code",
   "execution_count": 218,
   "metadata": {},
   "outputs": [],
   "source": [
    "directory = \"/home/michal/Desktop/UniversityOfEssex/MasterProject/22-24_CE901-CE911-CF981-SU_kaczmarczyk_michal_p/data/Bloomberg/\"\n",
    "files = os.listdir(directory)\n",
    "files = [f for f in files if os.path.isfile(directory+'/'+f)]\n",
    "files\n",
    "files = [\"RR.L.csv\"]"
   ]
  },
  {
   "cell_type": "code",
   "execution_count": 219,
   "metadata": {},
   "outputs": [],
   "source": [
    "dataDir = \"/home/michal/Desktop/UniversityOfEssex/MasterProject/22-24_CE901-CE911-CF981-SU_kaczmarczyk_michal_p/data/data/\"\n",
    "dataset = []\n",
    "for file in files:\n",
    "    df = pd.read_csv(dataDir + file).set_index(\"Date\")\n",
    "    df.index = pd.to_datetime(df.index)\n",
    "    bl = pd.read_csv(directory + file).set_index(\"Date\")\n",
    "    bl.index = pd.to_datetime(bl.index)\n",
    "    bl = bl[\"Price Earnings Ratio \\n(P/E) \\n(RR/ LN Equity)\"]\n",
    "    bl = bl.resample('D')\n",
    "    bl = bl.ffill()\n",
    "    bl = bl.bfill()\n",
    "    df = df.join(bl, how=\"inner\")\n",
    "    dataset.append(df)"
   ]
  },
  {
   "cell_type": "markdown",
   "metadata": {},
   "source": [
    "__Spliting Data__"
   ]
  },
  {
   "cell_type": "code",
   "execution_count": 220,
   "metadata": {},
   "outputs": [],
   "source": [
    "trainDataset = []\n",
    "testDataset = []\n",
    "preprocessor = Preprocessor()\n",
    "i=0\n",
    "for df in dataset:\n",
    "    df.insert(0, \"Date\", df.index)\n",
    "    df = preprocessor.leaveDataSinceDate(df)\n",
    "    #if files[i] == \"RR.L.csv\":\n",
    "    train, test = model_selection.train_test_split(df, test_size=0.2, shuffle=False)\n",
    "    trainDataset.append(train)\n",
    "    testDataset.append(test)\n",
    "    #else:\n",
    "    #    trainDataset.append(df)\n",
    "    i+=1"
   ]
  },
  {
   "cell_type": "markdown",
   "metadata": {},
   "source": [
    "__Preprocessing__"
   ]
  },
  {
   "cell_type": "code",
   "execution_count": 221,
   "metadata": {},
   "outputs": [],
   "source": [
    "preprocessor = Preprocessor()\n",
    "for i in range(len(trainDataset)):\n",
    "    trainDataset[i] = preprocessor.dropUnnamedColumn(trainDataset[i])\n",
    "    trainDataset[i] = preprocessor.dropDuplicates(trainDataset[i])\n",
    "    trainDataset[i] = preprocessor.addChangeFeature(trainDataset[i])\n",
    "    columns = trainDataset[i].columns\n",
    "    trainDataset[i][columns[1:]] = preprocessor.fillMissingData(trainDataset[i][columns[1:]])\n",
    "    trainDataset[i][columns[1:]] = preprocessor.scaleData(trainDataset[i][columns[1:]])\n",
    "    trainDataset[i] = preprocessor.sortValuesByDate(trainDataset[i])\n",
    "    trainDataset[i].set_index(\"Date\", inplace = True)"
   ]
  },
  {
   "cell_type": "code",
   "execution_count": 222,
   "metadata": {},
   "outputs": [],
   "source": [
    "preprocessor = Preprocessor()\n",
    "for i in range(len(testDataset)):\n",
    "    testDataset[i] = preprocessor.dropUnnamedColumn(testDataset[i])\n",
    "    testDataset[i] = preprocessor.dropDuplicates(testDataset[i])\n",
    "    testDataset[i] = preprocessor.addChangeFeature(testDataset[i])\n",
    "    columns = testDataset[i].columns\n",
    "    testDataset[i][columns[1:]] = preprocessor.fillMissingData(testDataset[i][columns[1:]])\n",
    "    testDataset[i][columns[1:]] = preprocessor.scaleData(testDataset[i][columns[1:]])\n",
    "    testDataset[i] = preprocessor.sortValuesByDate(testDataset[i])\n",
    "    testDataset[i].set_index(\"Date\", inplace = True)\n",
    "\n",
    "preprocessor.saveScalers()"
   ]
  },
  {
   "cell_type": "markdown",
   "metadata": {},
   "source": [
    "__Date Embedding and cyclical transformation__"
   ]
  },
  {
   "cell_type": "code",
   "execution_count": 223,
   "metadata": {},
   "outputs": [],
   "source": [
    "\n",
    "def getDateRange(start_date, end_date):\n",
    "    current_date = start_date\n",
    "    dates = []\n",
    "    while current_date <= end_date:\n",
    "        dates.append(current_date.strftime('%Y-%m-%d'))\n",
    "        current_date += timedelta(days=1)\n",
    "    return dates\n",
    "\n",
    "# Define the date range\n",
    "start_date = datetime(2024, 5, 24) - timedelta(days=40*365)  # 40 years ago\n",
    "end_date = datetime(2024, 5, 24) + timedelta(days=40*365)    # 40 years in the future\n",
    "\n",
    "# Generate the list of dates\n",
    "dictionary = getDateRange(start_date, end_date)\n",
    "date_to_index = {date: index for index, date in enumerate(dictionary)}\n",
    "\n",
    "class DateEmbeddingModel(nn.Module):\n",
    "    def __init__(self, num_embeddings = 29201, embedding_dim = 8):\n",
    "        super(DateEmbeddingModel, self).__init__()\n",
    "        self.embedding = nn.Embedding(num_embeddings, embedding_dim)\n",
    "\n",
    "    def forward(self, dates):\n",
    "        date_indices = torch.tensor([date_to_index[date] for date in dates], dtype=torch.long)\n",
    "        embedded_dates = self.embedding(date_indices)\n",
    "        return embedded_dates"
   ]
  },
  {
   "cell_type": "code",
   "execution_count": 224,
   "metadata": {},
   "outputs": [],
   "source": [
    "def dateCyclicalTransformation(date):\n",
    "    date = pd.to_datetime(date)\n",
    "\n",
    "    monthSin = np.sin(2 * np.pi * date.month/12.0)\n",
    "    monthCos = np.cos(2 * np.pi * date.month/12.0)\n",
    "    daySin = np.sin(2 * np.pi * date.day/31.0)\n",
    "    dayCos = np.cos(2 * np.pi * date.day/31.0)\n",
    "\n",
    "    return [monthSin, monthCos, daySin, dayCos]"
   ]
  },
  {
   "cell_type": "code",
   "execution_count": 225,
   "metadata": {},
   "outputs": [
    {
     "data": {
      "text/plain": [
       "'date = train.index.map(dateCyclicalTransformation)\\ndate = pd.DataFrame(date.to_list(), columns = [\"monthSin\", \"monthCos\", \"daySin\", \"dayCos\"]).set_index(train.index)\\ntrain = train.join(date)\\n\\ndate = validation.index.map(dateCyclicalTransformation)\\ndate = pd.DataFrame(date.to_list(), columns = [\"monthSin\", \"monthCos\", \"daySin\", \"dayCos\"]).set_index(validation.index)\\nvalidation = validation.join(date)\\n\\ndate = test.index.map(dateCyclicalTransformation)\\ndate = pd.DataFrame(date.to_list(), columns = [\"monthSin\", \"monthCos\", \"daySin\", \"dayCos\"]).set_index(test.index)\\ntest = test.join(date)'"
      ]
     },
     "execution_count": 225,
     "metadata": {},
     "output_type": "execute_result"
    }
   ],
   "source": [
    "'''date = train.index.map(dateCyclicalTransformation)\n",
    "date = pd.DataFrame(date.to_list(), columns = [\"monthSin\", \"monthCos\", \"daySin\", \"dayCos\"]).set_index(train.index)\n",
    "train = train.join(date)\n",
    "\n",
    "date = validation.index.map(dateCyclicalTransformation)\n",
    "date = pd.DataFrame(date.to_list(), columns = [\"monthSin\", \"monthCos\", \"daySin\", \"dayCos\"]).set_index(validation.index)\n",
    "validation = validation.join(date)\n",
    "\n",
    "date = test.index.map(dateCyclicalTransformation)\n",
    "date = pd.DataFrame(date.to_list(), columns = [\"monthSin\", \"monthCos\", \"daySin\", \"dayCos\"]).set_index(test.index)\n",
    "test = test.join(date)'''"
   ]
  },
  {
   "cell_type": "markdown",
   "metadata": {},
   "source": [
    "__Creating data loader for trend__"
   ]
  },
  {
   "cell_type": "code",
   "execution_count": 226,
   "metadata": {},
   "outputs": [
    {
     "name": "stderr",
     "output_type": "stream",
     "text": [
      "/tmp/ipykernel_6783/390145126.py:7: FutureWarning: Series.__getitem__ treating keys as positions is deprecated. In a future version, integer keys will always be treated as labels (consistent with DataFrame behavior). To access a value by position, use `ser.iloc[pos]`\n",
      "  if(dataY[lengthX+i - 1] <= dataY[lengthX + predictionHorizont + i - 1]):\n"
     ]
    }
   ],
   "source": [
    "def createSequenceForTrend(dataX, dataY, lengthX, predictionHorizont):\n",
    "    xData = []\n",
    "    yData = []\n",
    "    for i in range(len(dataX) - lengthX - predictionHorizont):\n",
    "        xData.append(dataX[i:i+lengthX].values)\n",
    "\n",
    "        if(dataY[lengthX+i - 1] <= dataY[lengthX + predictionHorizont + i - 1]):\n",
    "            yData.append(1.0)\n",
    "        else:\n",
    "            yData.append(0.0)\n",
    "    return xData, yData\n",
    "\n",
    "features = len(trainDataset[0].iloc[0])\n",
    "samplesForPrediction = 5\n",
    "samplesPredicted = 1\n",
    "\n",
    "trainDates = trainDataset[0].index[samplesForPrediction+1:]\n",
    "testDates = testDataset[0].index[samplesForPrediction+1:]\n",
    "xTrain = []\n",
    "yTrain = []\n",
    "xTest = []\n",
    "yTest = []\n",
    "for df in trainDataset:\n",
    "    trainX, trainY = createSequenceForTrend(df, df[\"Close\"], samplesForPrediction, samplesPredicted)\n",
    "    xTrain += trainX\n",
    "    yTrain += trainY\n",
    "for df in testDataset:\n",
    "    testX, testY = createSequenceForTrend(df, df[\"Close\"], samplesForPrediction, samplesPredicted)\n",
    "    xTest += testX\n",
    "    yTest += testY"
   ]
  },
  {
   "cell_type": "markdown",
   "metadata": {},
   "source": [
    "__Model__"
   ]
  },
  {
   "cell_type": "code",
   "execution_count": 227,
   "metadata": {},
   "outputs": [],
   "source": [
    "xTrain = np.array(xTrain)\n",
    "yTrain = np.array(yTrain)\n",
    "xTest = np.array(xTest)\n",
    "yTest = np.array(yTest)\n",
    "\n",
    "num_samples, num_days, num_features = xTrain.shape\n",
    "xTrain_flattened = xTrain.reshape(num_samples, num_days * num_features)\n",
    "\n",
    "num_samples, num_days, num_features = xTest.shape\n",
    "xTest_flattened = xTest.reshape(num_samples, num_days * num_features)"
   ]
  },
  {
   "cell_type": "code",
   "execution_count": 228,
   "metadata": {},
   "outputs": [
    {
     "data": {
      "text/html": [
       "<style>#sk-container-id-13 {color: black;}#sk-container-id-13 pre{padding: 0;}#sk-container-id-13 div.sk-toggleable {background-color: white;}#sk-container-id-13 label.sk-toggleable__label {cursor: pointer;display: block;width: 100%;margin-bottom: 0;padding: 0.3em;box-sizing: border-box;text-align: center;}#sk-container-id-13 label.sk-toggleable__label-arrow:before {content: \"▸\";float: left;margin-right: 0.25em;color: #696969;}#sk-container-id-13 label.sk-toggleable__label-arrow:hover:before {color: black;}#sk-container-id-13 div.sk-estimator:hover label.sk-toggleable__label-arrow:before {color: black;}#sk-container-id-13 div.sk-toggleable__content {max-height: 0;max-width: 0;overflow: hidden;text-align: left;background-color: #f0f8ff;}#sk-container-id-13 div.sk-toggleable__content pre {margin: 0.2em;color: black;border-radius: 0.25em;background-color: #f0f8ff;}#sk-container-id-13 input.sk-toggleable__control:checked~div.sk-toggleable__content {max-height: 200px;max-width: 100%;overflow: auto;}#sk-container-id-13 input.sk-toggleable__control:checked~label.sk-toggleable__label-arrow:before {content: \"▾\";}#sk-container-id-13 div.sk-estimator input.sk-toggleable__control:checked~label.sk-toggleable__label {background-color: #d4ebff;}#sk-container-id-13 div.sk-label input.sk-toggleable__control:checked~label.sk-toggleable__label {background-color: #d4ebff;}#sk-container-id-13 input.sk-hidden--visually {border: 0;clip: rect(1px 1px 1px 1px);clip: rect(1px, 1px, 1px, 1px);height: 1px;margin: -1px;overflow: hidden;padding: 0;position: absolute;width: 1px;}#sk-container-id-13 div.sk-estimator {font-family: monospace;background-color: #f0f8ff;border: 1px dotted black;border-radius: 0.25em;box-sizing: border-box;margin-bottom: 0.5em;}#sk-container-id-13 div.sk-estimator:hover {background-color: #d4ebff;}#sk-container-id-13 div.sk-parallel-item::after {content: \"\";width: 100%;border-bottom: 1px solid gray;flex-grow: 1;}#sk-container-id-13 div.sk-label:hover label.sk-toggleable__label {background-color: #d4ebff;}#sk-container-id-13 div.sk-serial::before {content: \"\";position: absolute;border-left: 1px solid gray;box-sizing: border-box;top: 0;bottom: 0;left: 50%;z-index: 0;}#sk-container-id-13 div.sk-serial {display: flex;flex-direction: column;align-items: center;background-color: white;padding-right: 0.2em;padding-left: 0.2em;position: relative;}#sk-container-id-13 div.sk-item {position: relative;z-index: 1;}#sk-container-id-13 div.sk-parallel {display: flex;align-items: stretch;justify-content: center;background-color: white;position: relative;}#sk-container-id-13 div.sk-item::before, #sk-container-id-13 div.sk-parallel-item::before {content: \"\";position: absolute;border-left: 1px solid gray;box-sizing: border-box;top: 0;bottom: 0;left: 50%;z-index: -1;}#sk-container-id-13 div.sk-parallel-item {display: flex;flex-direction: column;z-index: 1;position: relative;background-color: white;}#sk-container-id-13 div.sk-parallel-item:first-child::after {align-self: flex-end;width: 50%;}#sk-container-id-13 div.sk-parallel-item:last-child::after {align-self: flex-start;width: 50%;}#sk-container-id-13 div.sk-parallel-item:only-child::after {width: 0;}#sk-container-id-13 div.sk-dashed-wrapped {border: 1px dashed gray;margin: 0 0.4em 0.5em 0.4em;box-sizing: border-box;padding-bottom: 0.4em;background-color: white;}#sk-container-id-13 div.sk-label label {font-family: monospace;font-weight: bold;display: inline-block;line-height: 1.2em;}#sk-container-id-13 div.sk-label-container {text-align: center;}#sk-container-id-13 div.sk-container {/* jupyter's `normalize.less` sets `[hidden] { display: none; }` but bootstrap.min.css set `[hidden] { display: none !important; }` so we also need the `!important` here to be able to override the default hidden behavior on the sphinx rendered scikit-learn.org. See: https://github.com/scikit-learn/scikit-learn/issues/21755 */display: inline-block !important;position: relative;}#sk-container-id-13 div.sk-text-repr-fallback {display: none;}</style><div id=\"sk-container-id-13\" class=\"sk-top-container\"><div class=\"sk-text-repr-fallback\"><pre>SVC(C=600000.0, degree=5, tol=0.01)</pre><b>In a Jupyter environment, please rerun this cell to show the HTML representation or trust the notebook. <br />On GitHub, the HTML representation is unable to render, please try loading this page with nbviewer.org.</b></div><div class=\"sk-container\" hidden><div class=\"sk-item\"><div class=\"sk-estimator sk-toggleable\"><input class=\"sk-toggleable__control sk-hidden--visually\" id=\"sk-estimator-id-13\" type=\"checkbox\" checked><label for=\"sk-estimator-id-13\" class=\"sk-toggleable__label sk-toggleable__label-arrow\">SVC</label><div class=\"sk-toggleable__content\"><pre>SVC(C=600000.0, degree=5, tol=0.01)</pre></div></div></div></div></div>"
      ],
      "text/plain": [
       "SVC(C=600000.0, degree=5, tol=0.01)"
      ]
     },
     "execution_count": 228,
     "metadata": {},
     "output_type": "execute_result"
    }
   ],
   "source": [
    "svr = SVC(kernel='rbf', degree=5, C=600000.0, max_iter=-1, tol = 1e-2)\n",
    "svr.fit(xTrain_flattened, yTrain)\n",
    "#pickle.dump(svr, open(\"../models/svr_params.pickle\", \"wb\"))\n",
    "\n",
    "# Load the parameters from file\n",
    "#svrMultiOutput = pickle.load(open(\"../models/svr_params.pickle\", \"rb\"))\n"
   ]
  },
  {
   "cell_type": "markdown",
   "metadata": {},
   "source": [
    "__Train results__"
   ]
  },
  {
   "cell_type": "code",
   "execution_count": 229,
   "metadata": {},
   "outputs": [
    {
     "name": "stdout",
     "output_type": "stream",
     "text": [
      "Accuracy: 0.8843264897346019\n",
      "Recall: 0.8844984802431611\n"
     ]
    }
   ],
   "source": [
    "# Make predictions\n",
    "y_pred = svr.predict(xTrain_flattened)\n",
    "\n",
    "# Calculate the mean squared error across all outputs\n",
    "accuracy_total = accuracy_score(yTrain, y_pred)\n",
    "print(f'Accuracy: {accuracy_total}')\n",
    "\n",
    "recall_total = recall_score(yTrain, y_pred)\n",
    "print(f'Recall: {recall_total}')\n",
    "\n"
   ]
  },
  {
   "cell_type": "markdown",
   "metadata": {},
   "source": [
    "__Test results__"
   ]
  },
  {
   "cell_type": "code",
   "execution_count": 230,
   "metadata": {},
   "outputs": [
    {
     "name": "stdout",
     "output_type": "stream",
     "text": [
      "(495,)\n"
     ]
    }
   ],
   "source": [
    "# Make predictions\n",
    "y_pred = svr.predict(xTest_flattened)\n",
    "\n",
    "# Print the shape of predictions to verify\n",
    "print(y_pred.shape)  # Should be (num_samples, prediction horizont)"
   ]
  },
  {
   "cell_type": "code",
   "execution_count": 231,
   "metadata": {},
   "outputs": [
    {
     "name": "stdout",
     "output_type": "stream",
     "text": [
      "Accuracy: 0.5333333333333333\n",
      "Recall: 0.7769516728624535\n"
     ]
    }
   ],
   "source": [
    "# Calculate the mean squared error across all outputs\n",
    "accuracy_total = accuracy_score(yTest, y_pred)\n",
    "print(f'Accuracy: {accuracy_total}')\n",
    "\n",
    "recall_total = recall_score(yTest, y_pred)\n",
    "print(f'Recall: {recall_total}')"
   ]
  },
  {
   "cell_type": "markdown",
   "metadata": {},
   "source": [
    "__Profit calculation__"
   ]
  },
  {
   "cell_type": "code",
   "execution_count": 232,
   "metadata": {},
   "outputs": [],
   "source": [
    "#Rescaling\n",
    "dummyDataset = testDataset[0]\n",
    "dummyDataset[\"Close\"] = testDataset[0]['Close']\n",
    "dummyDataset = preprocessor.scaler.inverse_transform(dummyDataset)\n",
    "real = dummyDataset[:,3]"
   ]
  },
  {
   "cell_type": "code",
   "execution_count": 233,
   "metadata": {},
   "outputs": [
    {
     "name": "stdout",
     "output_type": "stream",
     "text": [
      "234.3099529999999\n"
     ]
    }
   ],
   "source": [
    "#real = np.concatenate(yTrain.cpu().detach().numpy()[::1])\n",
    "profit = 0\n",
    "lastBuy = 0\n",
    "action = []\n",
    "\n",
    "#real = testDataset[0]['Close'].values\n",
    "\n",
    "for realVal, predVal in zip(real[samplesForPrediction::samplesPredicted], y_pred[samplesPredicted::samplesPredicted]):\n",
    "    if(predVal==1 and lastBuy == 0):\n",
    "        lastBuy = realVal\n",
    "        action.append(1)\n",
    "    elif(predVal==0 and lastBuy > 0):\n",
    "        profit += realVal - lastBuy\n",
    "        lastBuy = 0\n",
    "        action.append(-1)\n",
    "    else:\n",
    "        action.append(0)\n",
    "\n",
    "if(lastBuy>0):\n",
    "    profit += realVal - lastBuy\n",
    "    lastBuy = 0\n",
    "    action.append(-1)\n",
    "else:\n",
    "    action.append(0)\n",
    "\n",
    "print(profit)"
   ]
  },
  {
   "cell_type": "code",
   "execution_count": 234,
   "metadata": {},
   "outputs": [
    {
     "data": {
      "image/png": "[encoded data removed]",
      "text/plain": [
       "<Figure size 640x480 with 1 Axes>"
      ]
     },
     "metadata": {},
     "output_type": "display_data"
    }
   ],
   "source": [
    "real2 = real[samplesForPrediction:-1]\n",
    "testDatesP = testDates[:]\n",
    "action = np.array(action[:])\n",
    "\n",
    "buy_dates = np.array(testDatesP)[action == 1]\n",
    "sell_dates = np.array(testDatesP)[action == -1]\n",
    "\n",
    "buy_prices = real2[action == 1]\n",
    "sell_prices = real2[action == -1]\n",
    "\n",
    "fig, ax = plt.subplots()\n",
    "ax.plot(np.array(testDatesP), real2, zorder = 3)\n",
    "\n",
    "ax.scatter(buy_dates, buy_prices, color='green', marker='^', s=100, label='Buy')\n",
    "ax.scatter(sell_dates, sell_prices, color='red', marker='v', s=100, label='Sell')\n",
    "\n",
    "# Rotate date labels for better readability\n",
    "plt.xticks(rotation=45)\n",
    "\n",
    "# Optionally, set the locator to have fewer ticks\n",
    "locator = plt.matplotlib.dates.AutoDateLocator(minticks=10, maxticks=20)\n",
    "ax.xaxis.set_major_locator(locator)\n",
    "\n",
    "ax.legend([\"Real\", \"Prediction\"])\n",
    "ax.grid()\n",
    "plt.ylabel(\"Scaled closing\")\n",
    "plt.xlabel(\"Day number\")\n",
    "plt.title(\"Prediction for 1 day using last 5 days - test set\")\n",
    "plt.show()\n",
    "\n"
   ]
  }
 ],
 "metadata": {
  "kernelspec": {
   "display_name": "Python 3",
   "language": "python",
   "name": "python3"
  },
  "language_info": {
   "codemirror_mode": {
    "name": "ipython",
    "version": 3
   },
   "file_extension": ".py",
   "mimetype": "text/x-python",
   "name": "python",
   "nbconvert_exporter": "python",
   "pygments_lexer": "ipython3",
   "version": "3.9.2"
  }
 },
 "nbformat": 4,
 "nbformat_minor": 2
}

{
 "cells": [
  {
   "cell_type": "code",
   "execution_count": 203,
   "metadata": {},
   "outputs": [
    {
     "name": "stdout",
     "output_type": "stream",
     "text": [
      "2.3.0+cu121\n",
      "Using cpu device\n"
     ]
    }
   ],
   "source": [
    "import pandas as pd\n",
    "import matplotlib.pyplot as plt\n",
    "from datetime import datetime, timedelta\n",
    "import numpy as np\n",
    "import pickle\n",
    "import torch\n",
    "from torch import nn\n",
    "from sklearn.metrics import mean_squared_error\n",
    "from sklearn.metrics import mean_absolute_error\n",
    "print(torch.__version__)\n",
    "\n",
    "device = (\n",
    "    \"cuda\"\n",
    "    if torch.cuda.is_available()\n",
    "    else \"mps\"\n",
    "    if torch.backends.mps.is_available()\n",
    "    else \"cpu\"\n",
    ")\n",
    "print(f\"Using {device} device\")"
   ]
  },
  {
   "cell_type": "markdown",
   "metadata": {},
   "source": [
    "__Getting data__"
   ]
  },
  {
   "cell_type": "code",
   "execution_count": 204,
   "metadata": {},
   "outputs": [
    {
     "data": {
      "text/html": [
       "<div>\n",
       "<style scoped>\n",
       "    .dataframe tbody tr th:only-of-type {\n",
       "        vertical-align: middle;\n",
       "    }\n",
       "\n",
       "    .dataframe tbody tr th {\n",
       "        vertical-align: top;\n",
       "    }\n",
       "\n",
       "    .dataframe thead th {\n",
       "        text-align: right;\n",
       "    }\n",
       "</style>\n",
       "<table border=\"1\" class=\"dataframe\">\n",
       "  <thead>\n",
       "    <tr style=\"text-align: right;\">\n",
       "      <th></th>\n",
       "      <th>Open</th>\n",
       "      <th>High</th>\n",
       "      <th>Low</th>\n",
       "      <th>Close</th>\n",
       "      <th>Adj Close</th>\n",
       "      <th>Volume</th>\n",
       "      <th>Change[%]</th>\n",
       "    </tr>\n",
       "    <tr>\n",
       "      <th>Date</th>\n",
       "      <th></th>\n",
       "      <th></th>\n",
       "      <th></th>\n",
       "      <th></th>\n",
       "      <th></th>\n",
       "      <th></th>\n",
       "      <th></th>\n",
       "    </tr>\n",
       "  </thead>\n",
       "  <tbody>\n",
       "    <tr>\n",
       "      <th>2017-01-03</th>\n",
       "      <td>0.482997</td>\n",
       "      <td>0.479080</td>\n",
       "      <td>0.484905</td>\n",
       "      <td>0.470506</td>\n",
       "      <td>0.452145</td>\n",
       "      <td>0.034897</td>\n",
       "      <td>0.000000</td>\n",
       "    </tr>\n",
       "    <tr>\n",
       "      <th>2017-01-04</th>\n",
       "      <td>0.482565</td>\n",
       "      <td>0.471923</td>\n",
       "      <td>0.477626</td>\n",
       "      <td>0.468391</td>\n",
       "      <td>0.450099</td>\n",
       "      <td>0.033528</td>\n",
       "      <td>-0.373130</td>\n",
       "    </tr>\n",
       "    <tr>\n",
       "      <th>2017-01-05</th>\n",
       "      <td>0.472647</td>\n",
       "      <td>0.462661</td>\n",
       "      <td>0.457500</td>\n",
       "      <td>0.444714</td>\n",
       "      <td>0.427189</td>\n",
       "      <td>0.116681</td>\n",
       "      <td>-4.194755</td>\n",
       "    </tr>\n",
       "    <tr>\n",
       "      <th>2017-01-06</th>\n",
       "      <td>0.457122</td>\n",
       "      <td>0.452137</td>\n",
       "      <td>0.457928</td>\n",
       "      <td>0.454016</td>\n",
       "      <td>0.436190</td>\n",
       "      <td>0.067813</td>\n",
       "      <td>1.720118</td>\n",
       "    </tr>\n",
       "    <tr>\n",
       "      <th>2017-01-09</th>\n",
       "      <td>0.464884</td>\n",
       "      <td>0.461028</td>\n",
       "      <td>0.465208</td>\n",
       "      <td>0.462895</td>\n",
       "      <td>0.444781</td>\n",
       "      <td>0.050291</td>\n",
       "      <td>1.614118</td>\n",
       "    </tr>\n",
       "    <tr>\n",
       "      <th>...</th>\n",
       "      <td>...</td>\n",
       "      <td>...</td>\n",
       "      <td>...</td>\n",
       "      <td>...</td>\n",
       "      <td>...</td>\n",
       "      <td>...</td>\n",
       "      <td>...</td>\n",
       "    </tr>\n",
       "    <tr>\n",
       "      <th>2024-01-31</th>\n",
       "      <td>0.672262</td>\n",
       "      <td>0.658226</td>\n",
       "      <td>0.664609</td>\n",
       "      <td>0.646145</td>\n",
       "      <td>0.646145</td>\n",
       "      <td>0.069847</td>\n",
       "      <td>-1.921196</td>\n",
       "    </tr>\n",
       "    <tr>\n",
       "      <th>2024-02-01</th>\n",
       "      <td>0.656177</td>\n",
       "      <td>0.653564</td>\n",
       "      <td>0.654876</td>\n",
       "      <td>0.640231</td>\n",
       "      <td>0.640231</td>\n",
       "      <td>0.199965</td>\n",
       "      <td>-0.796821</td>\n",
       "    </tr>\n",
       "    <tr>\n",
       "      <th>2024-02-02</th>\n",
       "      <td>0.664471</td>\n",
       "      <td>0.665096</td>\n",
       "      <td>0.665358</td>\n",
       "      <td>0.668323</td>\n",
       "      <td>0.668323</td>\n",
       "      <td>0.352898</td>\n",
       "      <td>3.815269</td>\n",
       "    </tr>\n",
       "    <tr>\n",
       "      <th>2024-02-05</th>\n",
       "      <td>0.687091</td>\n",
       "      <td>0.686345</td>\n",
       "      <td>0.684076</td>\n",
       "      <td>0.667337</td>\n",
       "      <td>0.667337</td>\n",
       "      <td>0.240647</td>\n",
       "      <td>-0.128957</td>\n",
       "    </tr>\n",
       "    <tr>\n",
       "      <th>2024-02-06</th>\n",
       "      <td>0.690609</td>\n",
       "      <td>0.693654</td>\n",
       "      <td>0.692810</td>\n",
       "      <td>0.687050</td>\n",
       "      <td>0.687050</td>\n",
       "      <td>0.221098</td>\n",
       "      <td>2.582311</td>\n",
       "    </tr>\n",
       "  </tbody>\n",
       "</table>\n",
       "<p>1792 rows × 7 columns</p>\n",
       "</div>"
      ],
      "text/plain": [
       "                Open      High       Low     Close  Adj Close    Volume  \\\n",
       "Date                                                                      \n",
       "2017-01-03  0.482997  0.479080  0.484905  0.470506   0.452145  0.034897   \n",
       "2017-01-04  0.482565  0.471923  0.477626  0.468391   0.450099  0.033528   \n",
       "2017-01-05  0.472647  0.462661  0.457500  0.444714   0.427189  0.116681   \n",
       "2017-01-06  0.457122  0.452137  0.457928  0.454016   0.436190  0.067813   \n",
       "2017-01-09  0.464884  0.461028  0.465208  0.462895   0.444781  0.050291   \n",
       "...              ...       ...       ...       ...        ...       ...   \n",
       "2024-01-31  0.672262  0.658226  0.664609  0.646145   0.646145  0.069847   \n",
       "2024-02-01  0.656177  0.653564  0.654876  0.640231   0.640231  0.199965   \n",
       "2024-02-02  0.664471  0.665096  0.665358  0.668323   0.668323  0.352898   \n",
       "2024-02-05  0.687091  0.686345  0.684076  0.667337   0.667337  0.240647   \n",
       "2024-02-06  0.690609  0.693654  0.692810  0.687050   0.687050  0.221098   \n",
       "\n",
       "            Change[%]  \n",
       "Date                   \n",
       "2017-01-03   0.000000  \n",
       "2017-01-04  -0.373130  \n",
       "2017-01-05  -4.194755  \n",
       "2017-01-06   1.720118  \n",
       "2017-01-09   1.614118  \n",
       "...               ...  \n",
       "2024-01-31  -1.921196  \n",
       "2024-02-01  -0.796821  \n",
       "2024-02-02   3.815269  \n",
       "2024-02-05  -0.128957  \n",
       "2024-02-06   2.582311  \n",
       "\n",
       "[1792 rows x 7 columns]"
      ]
     },
     "execution_count": 204,
     "metadata": {},
     "output_type": "execute_result"
    }
   ],
   "source": [
    "stock = \"RR.L.csv\"\n",
    "train = pd.read_csv(\"../data/train/\" + stock).set_index(\"Date\")\n",
    "validation = pd.read_csv(\"../data/validation/\" + stock).set_index(\"Date\")\n",
    "test = pd.read_csv(\"../data/test/\" + stock).set_index(\"Date\")\n",
    "train = pd.concat([train, validation], axis = 0)\n",
    "train"
   ]
  },
  {
   "cell_type": "markdown",
   "metadata": {},
   "source": [
    "__Date Embedding and cyclical transformation__"
   ]
  },
  {
   "cell_type": "code",
   "execution_count": 205,
   "metadata": {},
   "outputs": [],
   "source": [
    "\n",
    "def getDateRange(start_date, end_date):\n",
    "    current_date = start_date\n",
    "    dates = []\n",
    "    while current_date <= end_date:\n",
    "        dates.append(current_date.strftime('%Y-%m-%d'))\n",
    "        current_date += timedelta(days=1)\n",
    "    return dates\n",
    "\n",
    "# Define the date range\n",
    "start_date = datetime(2024, 5, 24) - timedelta(days=40*365)  # 40 years ago\n",
    "end_date = datetime(2024, 5, 24) + timedelta(days=40*365)    # 40 years in the future\n",
    "\n",
    "# Generate the list of dates\n",
    "dictionary = getDateRange(start_date, end_date)\n",
    "date_to_index = {date: index for index, date in enumerate(dictionary)}\n",
    "\n",
    "class DateEmbeddingModel(nn.Module):\n",
    "    def __init__(self, num_embeddings = 29201, embedding_dim = 8):\n",
    "        super(DateEmbeddingModel, self).__init__()\n",
    "        self.embedding = nn.Embedding(num_embeddings, embedding_dim)\n",
    "\n",
    "    def forward(self, dates):\n",
    "        date_indices = torch.tensor([date_to_index[date] for date in dates], dtype=torch.long)\n",
    "        embedded_dates = self.embedding(date_indices)\n",
    "        return embedded_dates"
   ]
  },
  {
   "cell_type": "code",
   "execution_count": 206,
   "metadata": {},
   "outputs": [],
   "source": [
    "def dateCyclicalTransformation(date):\n",
    "    date = pd.to_datetime(date)\n",
    "\n",
    "    monthSin = np.sin(2 * np.pi * date.month/12.0)\n",
    "    monthCos = np.cos(2 * np.pi * date.month/12.0)\n",
    "    daySin = np.sin(2 * np.pi * date.day/31.0)\n",
    "    dayCos = np.cos(2 * np.pi * date.day/31.0)\n",
    "\n",
    "    return [monthSin, monthCos, daySin, dayCos]"
   ]
  },
  {
   "cell_type": "markdown",
   "metadata": {},
   "source": [
    "__Creating data loader__"
   ]
  },
  {
   "cell_type": "code",
   "execution_count": 207,
   "metadata": {},
   "outputs": [],
   "source": [
    "def createSequence(dataX, dataY, lengthX, predictionHorizont):\n",
    "    xData = []\n",
    "    yData = []\n",
    "    for i in range(len(dataX) - lengthX - predictionHorizont):\n",
    "        xData.append(dataX[i:i+lengthX].values)\n",
    "        yData.append(dataY[(lengthX + i):(lengthX + predictionHorizont + i)].values)\n",
    "    return xData, yData\n",
    "\n",
    "features = len(train.iloc[0])\n",
    "samplesForPrediction = 2\n",
    "samplesPredicted = 1\n",
    "xTrain, yTrain = createSequence(train, train[\"Close\"], samplesForPrediction, samplesPredicted)\n",
    "xValid, yValid = createSequence(validation, validation[\"Close\"], samplesForPrediction, samplesPredicted)\n",
    "xTest, yTest = createSequence(test, test[\"Close\"], samplesForPrediction, samplesPredicted)"
   ]
  },
  {
   "cell_type": "code",
   "execution_count": 208,
   "metadata": {},
   "outputs": [],
   "source": [
    "xTrain = torch.Tensor(xTrain).to(device)\n",
    "yTrain = torch.Tensor(yTrain).to(device)\n",
    "xValid = torch.Tensor(xValid).to(device)\n",
    "yValid = torch.Tensor(yValid).to(device)\n",
    "xTest = torch.Tensor(xTest).to(device)\n",
    "yTest = torch.Tensor(yTest).to(device)"
   ]
  },
  {
   "cell_type": "markdown",
   "metadata": {},
   "source": [
    "__Model__"
   ]
  },
  {
   "cell_type": "code",
   "execution_count": 209,
   "metadata": {},
   "outputs": [
    {
     "name": "stdout",
     "output_type": "stream",
     "text": [
      "NeuralNetwork(\n",
      "  (flatten): Flatten(start_dim=1, end_dim=-1)\n",
      "  (l1): LSTM(14, 8, num_layers=2)\n",
      "  (relu): ReLU()\n",
      "  (out): Linear(in_features=8, out_features=1, bias=True)\n",
      ")\n"
     ]
    }
   ],
   "source": [
    "class NeuralNetwork(nn.Module):\n",
    "    def __init__(self):\n",
    "        super().__init__()\n",
    "        self.flatten = nn.Flatten()\n",
    "        self.l1 = nn.LSTM(input_size = samplesForPrediction*features, hidden_size = 8, num_layers = 2, device = device)\n",
    "        self.relu = nn.ReLU()\n",
    "        self.out = nn.Linear(8, 1, device = device)\n",
    "\n",
    "    def forward(self, x):\n",
    "        x = self.flatten(x)\n",
    "        x, _ = self.l1(x)\n",
    "        x = self.relu(x)\n",
    "        out = self.out(x)\n",
    "        return out\n",
    "\n",
    "model = NeuralNetwork().to(device)\n",
    "print(model)"
   ]
  },
  {
   "cell_type": "code",
   "execution_count": 210,
   "metadata": {},
   "outputs": [],
   "source": [
    "loss_fn = nn.MSELoss()\n",
    "optimizer = torch.optim.Adam(model.parameters(), lr=1e-5)\n",
    "loader = torch.utils.data.DataLoader(torch.utils.data.TensorDataset(xTrain, yTrain), shuffle=False, batch_size=1)"
   ]
  },
  {
   "cell_type": "code",
   "execution_count": 211,
   "metadata": {},
   "outputs": [
    {
     "name": "stdout",
     "output_type": "stream",
     "text": [
      "Epoch [1/12], Loss: 0.3637707531452179\n",
      "Epoch [2/12], Loss: 0.32153937220573425\n",
      "Epoch [3/12], Loss: 0.2794274091720581\n",
      "Epoch [4/12], Loss: 0.23831522464752197\n",
      "Epoch [5/12], Loss: 0.19865107536315918\n",
      "Epoch [6/12], Loss: 0.1610865443944931\n",
      "Epoch [7/12], Loss: 0.12480086088180542\n",
      "Epoch [8/12], Loss: 0.0901021957397461\n",
      "Epoch [9/12], Loss: 0.06148671731352806\n",
      "Epoch [10/12], Loss: 0.042632006108760834\n",
      "Epoch [11/12], Loss: 0.03502082824707031\n",
      "Epoch [12/12], Loss: 0.0376456193625927\n"
     ]
    }
   ],
   "source": [
    "def trainLoop(epochs):\n",
    "    model.train()\n",
    "    for epoch in range(epochs):\n",
    "        for inputData, desired in loader:\n",
    "            pred = model(inputData)\n",
    "            loss = loss_fn(pred, desired)\n",
    "\n",
    "            loss.backward()\n",
    "            optimizer.step()\n",
    "            optimizer.zero_grad()\n",
    "        model.eval()\n",
    "        with torch.no_grad():\n",
    "            y_pred = model(xTrain)\n",
    "            train_rmse = loss_fn(y_pred, yTrain)\n",
    "        print(f'Epoch [{epoch+1}/{epochs}], Loss: {train_rmse}')\n",
    "\n",
    "trainLoop(12)\n"
   ]
  },
  {
   "cell_type": "markdown",
   "metadata": {},
   "source": [
    "__Testing__"
   ]
  },
  {
   "cell_type": "code",
   "execution_count": 212,
   "metadata": {},
   "outputs": [
    {
     "name": "stdout",
     "output_type": "stream",
     "text": [
      "Total Mean Squared Error: 0.037645623087882996\n"
     ]
    },
    {
     "data": {
      "image/png": "[encoded data removed]",
      "text/plain": [
       "<Figure size 640x480 with 1 Axes>"
      ]
     },
     "metadata": {},
     "output_type": "display_data"
    }
   ],
   "source": [
    "# Make predictions\n",
    "y_pred = model(xTrain)\n",
    "\n",
    "y_pred = y_pred.detach().numpy()\n",
    "\n",
    "\n",
    "# Calculate the mean squared error across all outputs\n",
    "mse_total = mean_squared_error(yTrain.detach().numpy(), y_pred)\n",
    "print(f'Total Mean Squared Error: {mse_total}')\n",
    "\n",
    "set = 5*2\n",
    "real = np.concatenate(yTrain.detach().numpy()[::1])\n",
    "predictions = np.concatenate(y_pred[::1])\n",
    "\n",
    "fig, ax = plt.subplots()\n",
    "ax.plot(real, zorder = 3)\n",
    "ax.plot(predictions, color = 'black', zorder = 2)\n",
    "ax.legend([\"Real\", \"Prediction\"])\n",
    "#ax.axvspan(0, 4, facecolor='lightblue', alpha=0.5, zorder = 1)  # First part\n",
    "#ax.axvspan(4, 9, facecolor='lightgreen', alpha=0.5, zorder = 1)  # Second part\n",
    "#ax.axvspan(9, 14, facecolor='tomato', alpha=0.5, zorder = 1)  # Second third\n",
    "#ax.set_ylim([0, 1])\n",
    "ax.grid()\n",
    "plt.ylabel(\"Scaled closing\")\n",
    "plt.xlabel(\"Day number\")\n",
    "plt.title(\"Prediction for 1 day using last 10 days - train set\")\n",
    "plt.show()\n",
    "\n"
   ]
  }
 ],
 "metadata": {
  "kernelspec": {
   "display_name": "Python 3",
   "language": "python",
   "name": "python3"
  },
  "language_info": {
   "codemirror_mode": {
    "name": "ipython",
    "version": 3
   },
   "file_extension": ".py",
   "mimetype": "text/x-python",
   "name": "python",
   "nbconvert_exporter": "python",
   "pygments_lexer": "ipython3",
   "version": "3.9.2"
  }
 },
 "nbformat": 4,
 "nbformat_minor": 2
}
